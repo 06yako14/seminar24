{
 "cells": [
  {
   "cell_type": "markdown",
   "metadata": {},
   "source": [
    "<a id=\"top\"></a>\n",
    "# イントロダクション"
   ]
  },
  {
   "cell_type": "markdown",
   "metadata": {},
   "source": [
    "## 目次\n",
    "[1. はじめに](#intro)<br>\n",
    "[2. 開催の目的](#purpose)<br>\n",
    "[3. ゴール](#goal)<br>\n",
    "[4. 勉強会内容](#curriculum)<br>\n",
    "[5. 実行環境](#env)<br>\n"
   ]
  },
  {
   "cell_type": "markdown",
   "metadata": {},
   "source": [
    "<a id=\"intro\"></a>\n",
    "## 1. はじめに"
   ]
  },
  {
   "cell_type": "markdown",
   "metadata": {},
   "source": [
    "本勉強会はデータ分析初学者を対象とした基礎を学ぶ勉強会として、データを扱う全ての社員にとって、<br>\n",
    "そのスキルを磨き、日々の業務に活かせる知識を得るための機会となることを願ってます。"
   ]
  },
  {
   "cell_type": "markdown",
   "metadata": {},
   "source": [
    "<a id=\"purpose\"></a>\n",
    "## 2. 開催の目的"
   ]
  },
  {
   "cell_type": "markdown",
   "metadata": {},
   "source": [
    "### 機械学習エンジニアのスキルを得る\n",
    "データをもとに、機械学習モデルの構築やチューニングを行います。<br>\n",
    "プログラミングスキル（Python）、機械学習エンジニアの基礎的なスキル"
   ]
  },
  {
   "cell_type": "markdown",
   "metadata": {},
   "source": [
    "<a id=\"goal\"></a>\n",
    "## 3. ゴール"
   ]
  },
  {
   "cell_type": "markdown",
   "metadata": {},
   "source": [
    "本勉強会を通じて、参加者は以下のゴールを達成できるようになることを目指します。\n",
    "\n",
    "* Notebookの使い方（セルタイプ、実行順番）の理解\n",
    "* Pythonライブラリの使用方法の理解\n",
    "* データ分析用ライブラリを使用したデータセットの操作\n",
    "* グラフ描画ライブラリを使用した時系列データの可視化\n",
    "* 時系列データの加工（時間平均、時間シフト）"
   ]
  },
  {
   "cell_type": "markdown",
   "metadata": {},
   "source": [
    "<a id=\"curriculum\"></a>\n",
    "## 4. 勉強会概要"
   ]
  },
  {
   "cell_type": "markdown",
   "metadata": {},
   "source": [
    "### 4-1. カリキュラム"
   ]
  },
  {
   "cell_type": "markdown",
   "metadata": {},
   "source": [
    "カリキュラムは、データの前処理から始まり、データの視覚化、機械学習モデルの構築、評価に至るまで、一連の流れを包括的に扱います。"
   ]
  },
  {
   "cell_type": "markdown",
   "metadata": {},
   "source": [
    "### 4-2. 本勉強会で扱うこと"
   ]
  },
  {
   "cell_type": "markdown",
   "metadata": {},
   "source": [
    "* Pandasを用いたデータ加工\n",
    "* 基礎統計量の算出とその解釈\n",
    "* グラフ描画ライブラリを用いたデータの可視化\n",
    "* 機械学習モデルの構築\n",
    "* 評価指標による予測結果の評価"
   ]
  },
  {
   "cell_type": "markdown",
   "metadata": {},
   "source": [
    "### 4-2. 本勉強会で扱わないこと"
   ]
  },
  {
   "cell_type": "markdown",
   "metadata": {},
   "source": [
    "* Pythonの基礎からの完全な指導\n",
    "* 機会学習モデルの高度な数学的理論の詳細説明"
   ]
  },
  {
   "cell_type": "markdown",
   "metadata": {},
   "source": [
    "<a id=\"env\"></a>\n",
    "## 5. 実行環境"
   ]
  },
  {
   "cell_type": "markdown",
   "metadata": {},
   "source": [
    "実践的なセッションでは、Jupyter hub による Jupyter Notebook を用いたPythonソースの実行が中心となります。<br>\n",
    "Jupyter hub や Jupyter Notebookの説明は次章で扱います。"
   ]
  },
  {
   "cell_type": "markdown",
   "metadata": {},
   "source": [
    "[Topに戻る](#top)"
   ]
  }
 ],
 "metadata": {
  "kernelspec": {
   "display_name": "Python 3 (ipykernel)",
   "language": "python",
   "name": "python3"
  },
  "language_info": {
   "codemirror_mode": {
    "name": "ipython",
    "version": 3
   },
   "file_extension": ".py",
   "mimetype": "text/x-python",
   "name": "python",
   "nbconvert_exporter": "python",
   "pygments_lexer": "ipython3",
   "version": "3.11.7"
  }
 },
 "nbformat": 4,
 "nbformat_minor": 4
}
