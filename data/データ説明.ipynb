{
 "cells": [
  {
   "cell_type": "markdown",
   "metadata": {},
   "source": [
    "# データ説明"
   ]
  },
  {
   "cell_type": "markdown",
   "metadata": {},
   "source": [
    "## 学習用データ（train.csv）、評価データ用（test.csv）"
   ]
  },
  {
   "cell_type": "markdown",
   "metadata": {},
   "source": [
    "カラム|カラム名|データ型|説明\n",
    "------|-------|-------|----\n",
    "0|Date  |datetime   |インデックスとして使用する日付（yyyy-mm-dd）\n",
    "1|Open  |float      |始値\n",
    "2|High  |float      |高値\n",
    "3|Low   |float      |安値\n",
    "4|Close |float      |終値\n",
    "5|Up    |int        |翌取引日の株価推移（終値が上昇した場合に1、そうでない場合に0を記録）"
   ]
  },
  {
   "cell_type": "markdown",
   "metadata": {},
   "source": []
  }
 ],
 "metadata": {
  "language_info": {
   "name": "python"
  }
 },
 "nbformat": 4,
 "nbformat_minor": 2
}
