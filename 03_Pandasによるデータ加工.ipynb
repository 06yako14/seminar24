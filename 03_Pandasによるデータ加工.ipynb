{
 "cells": [
  {
   "cell_type": "markdown",
   "metadata": {},
   "source": [
    "<a id=\"top\"></a>\n",
    "# Pandasによるデータ加工"
   ]
  },
  {
   "cell_type": "markdown",
   "metadata": {},
   "source": [
    "ここではデータ加工で用いられるPandasの基本操作について学んでいきます。<br>\n",
    "なお、今回は必要ライブラリが使用するPython環境にインストールされている前提です。"
   ]
  },
  {
   "cell_type": "markdown",
   "metadata": {},
   "source": [
    "## 目次\n",
    "[1. Pandasのインポート](#import)<br>\n",
    "[2. データの読み込み](#read)<br>\n",
    "[3. データフレームの確認](#check)<br>\n",
    "[4. データの情報](#info)<br>\n",
    "[5. データフレームの結合](#merge)<br>\n",
    "[6. 基本統計量の確認](#stat)<br>\n",
    "[7. 列の抽出](#columns)<br>\n",
    "[8. 行の選択](#row)<br>\n",
    "[9. 条件に基づく選択](#conditions)<br>\n",
    "[10. 新しい列の追加](#addrow)<br>"
   ]
  },
  {
   "cell_type": "markdown",
   "metadata": {},
   "source": [
    "<a id=\"import\"></a>\n",
    "### 1. Pandasのインポート\n",
    "Pythonではライブラリを使用するのに、`import` でライブラリを呼び出します。<br>\n",
    "\n",
    "```Python\n",
    "import <ライブラリ名>\n",
    "```\n",
    "\n",
    "使用したいライブラリを`<ライブラリ名>`に入れて実行することで<br>\n",
    "インポート出来ます。"
   ]
  },
  {
   "cell_type": "markdown",
   "metadata": {},
   "source": [
    "さっそくPandasをインポートしましょう。以下のコードを使ってPandasをインポートします。"
   ]
  },
  {
   "cell_type": "code",
   "execution_count": 1,
   "metadata": {},
   "outputs": [],
   "source": [
    "import pandas"
   ]
  },
  {
   "cell_type": "markdown",
   "metadata": {},
   "source": [
    "また、後ろに`as <別名>` を付けることで、ライブラリ内の関数などを呼び出す際（後述）に別名で呼び出すことが出来ます。<br>"
   ]
  },
  {
   "cell_type": "code",
   "execution_count": 2,
   "metadata": {},
   "outputs": [],
   "source": [
    "import pandas as pd"
   ]
  },
  {
   "cell_type": "markdown",
   "metadata": {},
   "source": [
    "別名はPythonの命名規則に則っていれば、何でも設定できます。\n",
    "* Pyhton命名規則\n",
    "    * 英字（大文字または小文字）\n",
    "    * 数字（ただし、先頭には不可）\n",
    "    * アンダースコア（_）\n",
    "    * 予約語以外の文字列\n",
    "\n",
    "なので以下のようにすることもできます。"
   ]
  },
  {
   "cell_type": "code",
   "execution_count": 3,
   "metadata": {},
   "outputs": [],
   "source": [
    "import pandas as BingDwenDwen"
   ]
  },
  {
   "cell_type": "markdown",
   "metadata": {},
   "source": [
    "別名は開発者によって自由につけることが出来てしまうので、複数人で開発する際は<br>\n",
    "ベストプラクティス(pandasならpd)があればそれを設定し、なければ何も設定しない方が良いです。"
   ]
  },
  {
   "cell_type": "markdown",
   "metadata": {},
   "source": [
    "<a id=\"read\"></a>\n",
    "### 2. データの読み込み\n",
    "\n",
    "Pandasのread_csv関数を使用して、CSVファイルを読み込み、データフレームを作成します。<br>\n",
    "サンプルとして、次のURLからデータを読み込みます。<br>"
   ]
  },
  {
   "cell_type": "code",
   "execution_count": 4,
   "metadata": {},
   "outputs": [],
   "source": [
    "dir_path = \"./data/\"\n",
    "train_df = pd.read_csv(dir_path + \"train.csv\")\n",
    "test_df = pd.read_csv(dir_path + \"test.csv\")"
   ]
  },
  {
   "cell_type": "markdown",
   "metadata": {},
   "source": [
    "`dir_path + ファイル名`で指定したcsvファイルの中身を、変数にデータフレーム形式で格納できました。"
   ]
  },
  {
   "cell_type": "markdown",
   "metadata": {},
   "source": [
    "<a id=\"check\"></a>\n",
    "### 3. データフレームの確認\n",
    "データフレームの内容を確認する基本的な方法は、`.head()` と `.tail()` メソッドを使うことです。<br>\n",
    "これらはそれぞれデータフレームの最初の数行と最後の数行を表示します。"
   ]
  },
  {
   "cell_type": "code",
   "execution_count": 5,
   "metadata": {},
   "outputs": [
    {
     "data": {
      "text/html": [
       "<div>\n",
       "<style scoped>\n",
       "    .dataframe tbody tr th:only-of-type {\n",
       "        vertical-align: middle;\n",
       "    }\n",
       "\n",
       "    .dataframe tbody tr th {\n",
       "        vertical-align: top;\n",
       "    }\n",
       "\n",
       "    .dataframe thead th {\n",
       "        text-align: right;\n",
       "    }\n",
       "</style>\n",
       "<table border=\"1\" class=\"dataframe\">\n",
       "  <thead>\n",
       "    <tr style=\"text-align: right;\">\n",
       "      <th></th>\n",
       "      <th>Date</th>\n",
       "      <th>Open</th>\n",
       "      <th>High</th>\n",
       "      <th>Low</th>\n",
       "      <th>Close</th>\n",
       "      <th>Up</th>\n",
       "    </tr>\n",
       "  </thead>\n",
       "  <tbody>\n",
       "    <tr>\n",
       "      <th>0</th>\n",
       "      <td>2004-01-02</td>\n",
       "      <td>50.85</td>\n",
       "      <td>50.91</td>\n",
       "      <td>50.62</td>\n",
       "      <td>50.72</td>\n",
       "      <td>1</td>\n",
       "    </tr>\n",
       "    <tr>\n",
       "      <th>1</th>\n",
       "      <td>2004-01-05</td>\n",
       "      <td>50.75</td>\n",
       "      <td>50.84</td>\n",
       "      <td>50.61</td>\n",
       "      <td>50.79</td>\n",
       "      <td>1</td>\n",
       "    </tr>\n",
       "    <tr>\n",
       "      <th>2</th>\n",
       "      <td>2004-01-06</td>\n",
       "      <td>50.87</td>\n",
       "      <td>51.26</td>\n",
       "      <td>50.86</td>\n",
       "      <td>51.15</td>\n",
       "      <td>1</td>\n",
       "    </tr>\n",
       "    <tr>\n",
       "      <th>3</th>\n",
       "      <td>2004-01-07</td>\n",
       "      <td>51.45</td>\n",
       "      <td>51.54</td>\n",
       "      <td>51.29</td>\n",
       "      <td>51.51</td>\n",
       "      <td>0</td>\n",
       "    </tr>\n",
       "    <tr>\n",
       "      <th>4</th>\n",
       "      <td>2004-01-08</td>\n",
       "      <td>51.15</td>\n",
       "      <td>51.33</td>\n",
       "      <td>51.02</td>\n",
       "      <td>51.28</td>\n",
       "      <td>0</td>\n",
       "    </tr>\n",
       "  </tbody>\n",
       "</table>\n",
       "</div>"
      ],
      "text/plain": [
       "         Date   Open   High    Low  Close  Up\n",
       "0  2004-01-02  50.85  50.91  50.62  50.72   1\n",
       "1  2004-01-05  50.75  50.84  50.61  50.79   1\n",
       "2  2004-01-06  50.87  51.26  50.86  51.15   1\n",
       "3  2004-01-07  51.45  51.54  51.29  51.51   0\n",
       "4  2004-01-08  51.15  51.33  51.02  51.28   0"
      ]
     },
     "execution_count": 5,
     "metadata": {},
     "output_type": "execute_result"
    }
   ],
   "source": [
    "train_df.head()  # 最初の5行を表示"
   ]
  },
  {
   "cell_type": "code",
   "execution_count": 6,
   "metadata": {},
   "outputs": [
    {
     "data": {
      "text/html": [
       "<div>\n",
       "<style scoped>\n",
       "    .dataframe tbody tr th:only-of-type {\n",
       "        vertical-align: middle;\n",
       "    }\n",
       "\n",
       "    .dataframe tbody tr th {\n",
       "        vertical-align: top;\n",
       "    }\n",
       "\n",
       "    .dataframe thead th {\n",
       "        text-align: right;\n",
       "    }\n",
       "</style>\n",
       "<table border=\"1\" class=\"dataframe\">\n",
       "  <thead>\n",
       "    <tr style=\"text-align: right;\">\n",
       "      <th></th>\n",
       "      <th>Date</th>\n",
       "      <th>Open</th>\n",
       "      <th>High</th>\n",
       "      <th>Low</th>\n",
       "      <th>Close</th>\n",
       "    </tr>\n",
       "  </thead>\n",
       "  <tbody>\n",
       "    <tr>\n",
       "      <th>0</th>\n",
       "      <td>2012-01-19</td>\n",
       "      <td>110.79</td>\n",
       "      <td>110.82</td>\n",
       "      <td>109.96</td>\n",
       "      <td>110.39</td>\n",
       "    </tr>\n",
       "    <tr>\n",
       "      <th>1</th>\n",
       "      <td>2012-01-20</td>\n",
       "      <td>110.45</td>\n",
       "      <td>111.10</td>\n",
       "      <td>110.36</td>\n",
       "      <td>110.73</td>\n",
       "    </tr>\n",
       "    <tr>\n",
       "      <th>2</th>\n",
       "      <td>2012-01-23</td>\n",
       "      <td>110.95</td>\n",
       "      <td>111.10</td>\n",
       "      <td>109.65</td>\n",
       "      <td>110.36</td>\n",
       "    </tr>\n",
       "    <tr>\n",
       "      <th>3</th>\n",
       "      <td>2012-01-24</td>\n",
       "      <td>110.16</td>\n",
       "      <td>110.16</td>\n",
       "      <td>108.13</td>\n",
       "      <td>108.39</td>\n",
       "    </tr>\n",
       "    <tr>\n",
       "      <th>4</th>\n",
       "      <td>2012-01-25</td>\n",
       "      <td>106.25</td>\n",
       "      <td>107.11</td>\n",
       "      <td>105.97</td>\n",
       "      <td>106.89</td>\n",
       "    </tr>\n",
       "  </tbody>\n",
       "</table>\n",
       "</div>"
      ],
      "text/plain": [
       "         Date    Open    High     Low   Close\n",
       "0  2012-01-19  110.79  110.82  109.96  110.39\n",
       "1  2012-01-20  110.45  111.10  110.36  110.73\n",
       "2  2012-01-23  110.95  111.10  109.65  110.36\n",
       "3  2012-01-24  110.16  110.16  108.13  108.39\n",
       "4  2012-01-25  106.25  107.11  105.97  106.89"
      ]
     },
     "execution_count": 6,
     "metadata": {},
     "output_type": "execute_result"
    }
   ],
   "source": [
    "test_df.head()  # 最初の5行を表示"
   ]
  },
  {
   "cell_type": "code",
   "execution_count": 7,
   "metadata": {},
   "outputs": [
    {
     "data": {
      "text/html": [
       "<div>\n",
       "<style scoped>\n",
       "    .dataframe tbody tr th:only-of-type {\n",
       "        vertical-align: middle;\n",
       "    }\n",
       "\n",
       "    .dataframe tbody tr th {\n",
       "        vertical-align: top;\n",
       "    }\n",
       "\n",
       "    .dataframe thead th {\n",
       "        text-align: right;\n",
       "    }\n",
       "</style>\n",
       "<table border=\"1\" class=\"dataframe\">\n",
       "  <thead>\n",
       "    <tr style=\"text-align: right;\">\n",
       "      <th></th>\n",
       "      <th>Date</th>\n",
       "      <th>Open</th>\n",
       "      <th>High</th>\n",
       "      <th>Low</th>\n",
       "      <th>Close</th>\n",
       "      <th>Up</th>\n",
       "    </tr>\n",
       "  </thead>\n",
       "  <tbody>\n",
       "    <tr>\n",
       "      <th>2021</th>\n",
       "      <td>2012-01-11</td>\n",
       "      <td>108.62</td>\n",
       "      <td>109.00</td>\n",
       "      <td>108.41</td>\n",
       "      <td>108.86</td>\n",
       "      <td>1</td>\n",
       "    </tr>\n",
       "    <tr>\n",
       "      <th>2022</th>\n",
       "      <td>2012-01-12</td>\n",
       "      <td>109.68</td>\n",
       "      <td>109.90</td>\n",
       "      <td>109.44</td>\n",
       "      <td>109.83</td>\n",
       "      <td>0</td>\n",
       "    </tr>\n",
       "    <tr>\n",
       "      <th>2023</th>\n",
       "      <td>2012-01-13</td>\n",
       "      <td>109.53</td>\n",
       "      <td>109.72</td>\n",
       "      <td>109.08</td>\n",
       "      <td>109.66</td>\n",
       "      <td>1</td>\n",
       "    </tr>\n",
       "    <tr>\n",
       "      <th>2024</th>\n",
       "      <td>2012-01-17</td>\n",
       "      <td>109.99</td>\n",
       "      <td>110.47</td>\n",
       "      <td>109.57</td>\n",
       "      <td>109.96</td>\n",
       "      <td>1</td>\n",
       "    </tr>\n",
       "    <tr>\n",
       "      <th>2025</th>\n",
       "      <td>2012-01-18</td>\n",
       "      <td>110.06</td>\n",
       "      <td>110.82</td>\n",
       "      <td>109.94</td>\n",
       "      <td>110.58</td>\n",
       "      <td>0</td>\n",
       "    </tr>\n",
       "  </tbody>\n",
       "</table>\n",
       "</div>"
      ],
      "text/plain": [
       "            Date    Open    High     Low   Close  Up\n",
       "2021  2012-01-11  108.62  109.00  108.41  108.86   1\n",
       "2022  2012-01-12  109.68  109.90  109.44  109.83   0\n",
       "2023  2012-01-13  109.53  109.72  109.08  109.66   1\n",
       "2024  2012-01-17  109.99  110.47  109.57  109.96   1\n",
       "2025  2012-01-18  110.06  110.82  109.94  110.58   0"
      ]
     },
     "execution_count": 7,
     "metadata": {},
     "output_type": "execute_result"
    }
   ],
   "source": [
    "train_df.tail()  # 最後の5行を表示"
   ]
  },
  {
   "cell_type": "code",
   "execution_count": 8,
   "metadata": {},
   "outputs": [
    {
     "data": {
      "text/html": [
       "<div>\n",
       "<style scoped>\n",
       "    .dataframe tbody tr th:only-of-type {\n",
       "        vertical-align: middle;\n",
       "    }\n",
       "\n",
       "    .dataframe tbody tr th {\n",
       "        vertical-align: top;\n",
       "    }\n",
       "\n",
       "    .dataframe thead th {\n",
       "        text-align: right;\n",
       "    }\n",
       "</style>\n",
       "<table border=\"1\" class=\"dataframe\">\n",
       "  <thead>\n",
       "    <tr style=\"text-align: right;\">\n",
       "      <th></th>\n",
       "      <th>Date</th>\n",
       "      <th>Open</th>\n",
       "      <th>High</th>\n",
       "      <th>Low</th>\n",
       "      <th>Close</th>\n",
       "    </tr>\n",
       "  </thead>\n",
       "  <tbody>\n",
       "    <tr>\n",
       "      <th>1195</th>\n",
       "      <td>2019-12-17</td>\n",
       "      <td>185.52</td>\n",
       "      <td>186.40</td>\n",
       "      <td>184.62</td>\n",
       "      <td>184.68</td>\n",
       "    </tr>\n",
       "    <tr>\n",
       "      <th>1196</th>\n",
       "      <td>2019-12-18</td>\n",
       "      <td>183.86</td>\n",
       "      <td>184.01</td>\n",
       "      <td>182.38</td>\n",
       "      <td>183.10</td>\n",
       "    </tr>\n",
       "    <tr>\n",
       "      <th>1197</th>\n",
       "      <td>2019-12-19</td>\n",
       "      <td>183.83</td>\n",
       "      <td>185.17</td>\n",
       "      <td>183.66</td>\n",
       "      <td>185.08</td>\n",
       "    </tr>\n",
       "    <tr>\n",
       "      <th>1198</th>\n",
       "      <td>2019-12-20</td>\n",
       "      <td>186.29</td>\n",
       "      <td>186.64</td>\n",
       "      <td>184.81</td>\n",
       "      <td>185.19</td>\n",
       "    </tr>\n",
       "    <tr>\n",
       "      <th>1199</th>\n",
       "      <td>2019-12-23</td>\n",
       "      <td>184.38</td>\n",
       "      <td>184.38</td>\n",
       "      <td>183.20</td>\n",
       "      <td>183.34</td>\n",
       "    </tr>\n",
       "  </tbody>\n",
       "</table>\n",
       "</div>"
      ],
      "text/plain": [
       "            Date    Open    High     Low   Close\n",
       "1195  2019-12-17  185.52  186.40  184.62  184.68\n",
       "1196  2019-12-18  183.86  184.01  182.38  183.10\n",
       "1197  2019-12-19  183.83  185.17  183.66  185.08\n",
       "1198  2019-12-20  186.29  186.64  184.81  185.19\n",
       "1199  2019-12-23  184.38  184.38  183.20  183.34"
      ]
     },
     "execution_count": 8,
     "metadata": {},
     "output_type": "execute_result"
    }
   ],
   "source": [
    "test_df.tail()  # 最後の5行を表示"
   ]
  },
  {
   "cell_type": "markdown",
   "metadata": {},
   "source": [
    "()内に数値を入れることで、その数値分、行を表示できます。"
   ]
  },
  {
   "cell_type": "code",
   "execution_count": 9,
   "metadata": {},
   "outputs": [
    {
     "data": {
      "text/html": [
       "<div>\n",
       "<style scoped>\n",
       "    .dataframe tbody tr th:only-of-type {\n",
       "        vertical-align: middle;\n",
       "    }\n",
       "\n",
       "    .dataframe tbody tr th {\n",
       "        vertical-align: top;\n",
       "    }\n",
       "\n",
       "    .dataframe thead th {\n",
       "        text-align: right;\n",
       "    }\n",
       "</style>\n",
       "<table border=\"1\" class=\"dataframe\">\n",
       "  <thead>\n",
       "    <tr style=\"text-align: right;\">\n",
       "      <th></th>\n",
       "      <th>Date</th>\n",
       "      <th>Open</th>\n",
       "      <th>High</th>\n",
       "      <th>Low</th>\n",
       "      <th>Close</th>\n",
       "      <th>Up</th>\n",
       "    </tr>\n",
       "  </thead>\n",
       "  <tbody>\n",
       "    <tr>\n",
       "      <th>0</th>\n",
       "      <td>2004-01-02</td>\n",
       "      <td>50.85</td>\n",
       "      <td>50.91</td>\n",
       "      <td>50.62</td>\n",
       "      <td>50.72</td>\n",
       "      <td>1</td>\n",
       "    </tr>\n",
       "    <tr>\n",
       "      <th>1</th>\n",
       "      <td>2004-01-05</td>\n",
       "      <td>50.75</td>\n",
       "      <td>50.84</td>\n",
       "      <td>50.61</td>\n",
       "      <td>50.79</td>\n",
       "      <td>1</td>\n",
       "    </tr>\n",
       "    <tr>\n",
       "      <th>2</th>\n",
       "      <td>2004-01-06</td>\n",
       "      <td>50.87</td>\n",
       "      <td>51.26</td>\n",
       "      <td>50.86</td>\n",
       "      <td>51.15</td>\n",
       "      <td>1</td>\n",
       "    </tr>\n",
       "    <tr>\n",
       "      <th>3</th>\n",
       "      <td>2004-01-07</td>\n",
       "      <td>51.45</td>\n",
       "      <td>51.54</td>\n",
       "      <td>51.29</td>\n",
       "      <td>51.51</td>\n",
       "      <td>0</td>\n",
       "    </tr>\n",
       "    <tr>\n",
       "      <th>4</th>\n",
       "      <td>2004-01-08</td>\n",
       "      <td>51.15</td>\n",
       "      <td>51.33</td>\n",
       "      <td>51.02</td>\n",
       "      <td>51.28</td>\n",
       "      <td>0</td>\n",
       "    </tr>\n",
       "    <tr>\n",
       "      <th>5</th>\n",
       "      <td>2004-01-09</td>\n",
       "      <td>51.11</td>\n",
       "      <td>51.32</td>\n",
       "      <td>51.01</td>\n",
       "      <td>51.01</td>\n",
       "      <td>0</td>\n",
       "    </tr>\n",
       "    <tr>\n",
       "      <th>6</th>\n",
       "      <td>2004-01-12</td>\n",
       "      <td>50.80</td>\n",
       "      <td>50.90</td>\n",
       "      <td>50.55</td>\n",
       "      <td>50.87</td>\n",
       "      <td>0</td>\n",
       "    </tr>\n",
       "    <tr>\n",
       "      <th>7</th>\n",
       "      <td>2004-01-13</td>\n",
       "      <td>50.90</td>\n",
       "      <td>50.98</td>\n",
       "      <td>50.53</td>\n",
       "      <td>50.61</td>\n",
       "      <td>1</td>\n",
       "    </tr>\n",
       "    <tr>\n",
       "      <th>8</th>\n",
       "      <td>2004-01-14</td>\n",
       "      <td>50.43</td>\n",
       "      <td>50.65</td>\n",
       "      <td>50.40</td>\n",
       "      <td>50.64</td>\n",
       "      <td>1</td>\n",
       "    </tr>\n",
       "    <tr>\n",
       "      <th>9</th>\n",
       "      <td>2004-01-15</td>\n",
       "      <td>51.01</td>\n",
       "      <td>51.27</td>\n",
       "      <td>50.70</td>\n",
       "      <td>51.01</td>\n",
       "      <td>1</td>\n",
       "    </tr>\n",
       "  </tbody>\n",
       "</table>\n",
       "</div>"
      ],
      "text/plain": [
       "         Date   Open   High    Low  Close  Up\n",
       "0  2004-01-02  50.85  50.91  50.62  50.72   1\n",
       "1  2004-01-05  50.75  50.84  50.61  50.79   1\n",
       "2  2004-01-06  50.87  51.26  50.86  51.15   1\n",
       "3  2004-01-07  51.45  51.54  51.29  51.51   0\n",
       "4  2004-01-08  51.15  51.33  51.02  51.28   0\n",
       "5  2004-01-09  51.11  51.32  51.01  51.01   0\n",
       "6  2004-01-12  50.80  50.90  50.55  50.87   0\n",
       "7  2004-01-13  50.90  50.98  50.53  50.61   1\n",
       "8  2004-01-14  50.43  50.65  50.40  50.64   1\n",
       "9  2004-01-15  51.01  51.27  50.70  51.01   1"
      ]
     },
     "execution_count": 9,
     "metadata": {},
     "output_type": "execute_result"
    }
   ],
   "source": [
    "train_df.head(10)"
   ]
  },
  {
   "cell_type": "markdown",
   "metadata": {},
   "source": [
    "表示された2次元データのことを**データフレーム**といいます。<br>\n",
    "データフレームの横方向のデータを**行**、縦方向のデータを**列（カラム）** といいます。<br>\n",
    "一番左の列には**行名（index）** 、一番上の行には**列名（カラム名）** が割り当てられています。<br>\n"
   ]
  },
  {
   "cell_type": "markdown",
   "metadata": {},
   "source": [
    "<a id=\"info\"></a>\n",
    "### 4. データの情報\n",
    "データフレームの構造と欠損値(null値)の有無を確認するには `.info()` メソッドを使用します。"
   ]
  },
  {
   "cell_type": "code",
   "execution_count": 10,
   "metadata": {},
   "outputs": [
    {
     "name": "stdout",
     "output_type": "stream",
     "text": [
      "<class 'pandas.core.frame.DataFrame'>\n",
      "RangeIndex: 2026 entries, 0 to 2025\n",
      "Data columns (total 6 columns):\n",
      " #   Column  Non-Null Count  Dtype  \n",
      "---  ------  --------------  -----  \n",
      " 0   Date    2026 non-null   object \n",
      " 1   Open    2026 non-null   float64\n",
      " 2   High    2026 non-null   float64\n",
      " 3   Low     2026 non-null   float64\n",
      " 4   Close   2026 non-null   float64\n",
      " 5   Up      2026 non-null   int64  \n",
      "dtypes: float64(4), int64(1), object(1)\n",
      "memory usage: 95.1+ KB\n"
     ]
    }
   ],
   "source": [
    "train_df.info()"
   ]
  },
  {
   "cell_type": "code",
   "execution_count": 11,
   "metadata": {},
   "outputs": [
    {
     "name": "stdout",
     "output_type": "stream",
     "text": [
      "<class 'pandas.core.frame.DataFrame'>\n",
      "RangeIndex: 1200 entries, 0 to 1199\n",
      "Data columns (total 5 columns):\n",
      " #   Column  Non-Null Count  Dtype  \n",
      "---  ------  --------------  -----  \n",
      " 0   Date    1200 non-null   object \n",
      " 1   Open    1200 non-null   float64\n",
      " 2   High    1200 non-null   float64\n",
      " 3   Low     1200 non-null   float64\n",
      " 4   Close   1200 non-null   float64\n",
      "dtypes: float64(4), object(1)\n",
      "memory usage: 47.0+ KB\n"
     ]
    }
   ],
   "source": [
    "test_df.info()"
   ]
  },
  {
   "cell_type": "markdown",
   "metadata": {},
   "source": [
    "`.info()`メソッドを使用することで\n",
    "* データ型\n",
    "* 行数（RangeIndex）\n",
    "* カラム数（Data columns）\n",
    "* カラム名（Column）\n",
    "* Non-Null数（Non-Null Count）\n",
    "* 各カラムのデータ型（Dtype）\n",
    "* メモリ使用量（memory usage）\n",
    "\n",
    "が把握できる。"
   ]
  },
  {
   "cell_type": "markdown",
   "metadata": {},
   "source": [
    "単に行数、列数が知りたい場合は`.shape`メソッドを使うと確認できる。<br>\n",
    "`(行数、列数)`の形で出力される。"
   ]
  },
  {
   "cell_type": "code",
   "execution_count": 12,
   "metadata": {},
   "outputs": [
    {
     "data": {
      "text/plain": [
       "(2026, 6)"
      ]
     },
     "execution_count": 12,
     "metadata": {},
     "output_type": "execute_result"
    }
   ],
   "source": [
    "train_df.shape"
   ]
  },
  {
   "cell_type": "code",
   "execution_count": 13,
   "metadata": {},
   "outputs": [
    {
     "data": {
      "text/plain": [
       "(1200, 5)"
      ]
     },
     "execution_count": 13,
     "metadata": {},
     "output_type": "execute_result"
    }
   ],
   "source": [
    "test_df.shape"
   ]
  },
  {
   "cell_type": "markdown",
   "metadata": {},
   "source": [
    "また、欠損値の数は以下のコードでも確認できます。"
   ]
  },
  {
   "cell_type": "markdown",
   "metadata": {},
   "source": [
    "`.isnull()`：データがNULLであれば、`True`、そうでなければ`False`を返す。<br>\n",
    "`.sum()`&emsp;&emsp;:`True`の数を計算する。"
   ]
  },
  {
   "cell_type": "code",
   "execution_count": 14,
   "metadata": {},
   "outputs": [
    {
     "data": {
      "text/plain": [
       "Date     0\n",
       "Open     0\n",
       "High     0\n",
       "Low      0\n",
       "Close    0\n",
       "Up       0\n",
       "dtype: int64"
      ]
     },
     "execution_count": 14,
     "metadata": {},
     "output_type": "execute_result"
    }
   ],
   "source": [
    "train_df.isnull().sum()"
   ]
  },
  {
   "cell_type": "code",
   "execution_count": 15,
   "metadata": {},
   "outputs": [
    {
     "data": {
      "text/plain": [
       "Date     0\n",
       "Open     0\n",
       "High     0\n",
       "Low      0\n",
       "Close    0\n",
       "dtype: int64"
      ]
     },
     "execution_count": 15,
     "metadata": {},
     "output_type": "execute_result"
    }
   ],
   "source": [
    "test_df.isnull().sum()"
   ]
  },
  {
   "cell_type": "markdown",
   "metadata": {},
   "source": [
    "<a id=\"merge\"></a>\n",
    "### 5. データフレームの結合"
   ]
  },
  {
   "cell_type": "markdown",
   "metadata": {},
   "source": [
    "異なる2つ以上のデータフレームを1つにすることを結合といいます。<br>\n",
    "データフレームの結合には`concat`,`merge`,`join`の3種類のメソッドがあります。<br>\n",
    "それぞれ特徴は以下です。\n",
    "* concat<br>\n",
    "    主に縦方向の結合に用いる。3つ以上のデータフレームも同時に結合可能。\n",
    "* meger<br>\n",
    "    横方向の結合に用いる。結合軸をデータ軸で取る。\n",
    "* join<br>\n",
    "    横方向の結合に用いる。結合軸をインデックスで取る。\n",
    "\n",
    "基本的には`concat`と`merge`が使用できればOK！"
   ]
  },
  {
   "cell_type": "code",
   "execution_count": 16,
   "metadata": {},
   "outputs": [],
   "source": [
    "import pandas as pd\n",
    "\n",
    "df1 = pd.DataFrame({\"名前\": [\"S竹\", \"M島\"],\n",
    "                    \"拠点\": [\"東京\", \"大阪\"]\n",
    "                    })\n",
    "\n",
    "df2 = pd.DataFrame({\"名前\": [\"S竹\", \"G藤\"],\n",
    "                    \"拠点\": [\"東京\", \"大阪\"]\n",
    "                    })\n",
    "\n",
    "df3 = pd.DataFrame({\"名前\": [\"S竹\", \"M島\"],\n",
    "                    \"役職\": [\"副室長\", \"M\"]})\n",
    "\n",
    "df4 = pd.DataFrame({\"役職\": [\"副室長\", \"M\"],\n",
    "                    \"趣味\": [\"釣り\",\"競馬\"]})\n",
    "\n"
   ]
  },
  {
   "cell_type": "markdown",
   "metadata": {},
   "source": [
    "#### concat"
   ]
  },
  {
   "cell_type": "markdown",
   "metadata": {},
   "source": [
    "同名の列名通しを縦方向に結合する。<br>\n",
    "こんなイメージ\n",
    "\n",
    "![concat](./image/concat.png \"concat.png\")"
   ]
  },
  {
   "cell_type": "markdown",
   "metadata": {},
   "source": [
    "#### merge"
   ]
  },
  {
   "cell_type": "markdown",
   "metadata": {},
   "source": [
    "列名とデータが一致しているデータ横方向に結合する。<br>\n",
    "こんなイメージ\n",
    "\n",
    "![merge](./image/merge.png \"merge.png\")"
   ]
  },
  {
   "cell_type": "markdown",
   "metadata": {},
   "source": [
    "#### join"
   ]
  },
  {
   "cell_type": "markdown",
   "metadata": {},
   "source": [
    "同一インデックスのデータに対して横方向に結合する。<br>\n",
    "こんなイメージ\n",
    "\n",
    "![merge](./image/join.png \"join.png\")"
   ]
  },
  {
   "cell_type": "markdown",
   "metadata": {},
   "source": [
    "今回はtrain_dfとtest_dfを縦方向に結合していく。"
   ]
  },
  {
   "cell_type": "code",
   "execution_count": 17,
   "metadata": {},
   "outputs": [
    {
     "data": {
      "text/html": [
       "<div>\n",
       "<style scoped>\n",
       "    .dataframe tbody tr th:only-of-type {\n",
       "        vertical-align: middle;\n",
       "    }\n",
       "\n",
       "    .dataframe tbody tr th {\n",
       "        vertical-align: top;\n",
       "    }\n",
       "\n",
       "    .dataframe thead th {\n",
       "        text-align: right;\n",
       "    }\n",
       "</style>\n",
       "<table border=\"1\" class=\"dataframe\">\n",
       "  <thead>\n",
       "    <tr style=\"text-align: right;\">\n",
       "      <th></th>\n",
       "      <th>Date</th>\n",
       "      <th>Open</th>\n",
       "      <th>High</th>\n",
       "      <th>Low</th>\n",
       "      <th>Close</th>\n",
       "      <th>Up</th>\n",
       "    </tr>\n",
       "  </thead>\n",
       "  <tbody>\n",
       "    <tr>\n",
       "      <th>0</th>\n",
       "      <td>2004-01-02</td>\n",
       "      <td>50.85</td>\n",
       "      <td>50.91</td>\n",
       "      <td>50.62</td>\n",
       "      <td>50.72</td>\n",
       "      <td>1.0</td>\n",
       "    </tr>\n",
       "    <tr>\n",
       "      <th>1</th>\n",
       "      <td>2004-01-05</td>\n",
       "      <td>50.75</td>\n",
       "      <td>50.84</td>\n",
       "      <td>50.61</td>\n",
       "      <td>50.79</td>\n",
       "      <td>1.0</td>\n",
       "    </tr>\n",
       "    <tr>\n",
       "      <th>2</th>\n",
       "      <td>2004-01-06</td>\n",
       "      <td>50.87</td>\n",
       "      <td>51.26</td>\n",
       "      <td>50.86</td>\n",
       "      <td>51.15</td>\n",
       "      <td>1.0</td>\n",
       "    </tr>\n",
       "    <tr>\n",
       "      <th>3</th>\n",
       "      <td>2004-01-07</td>\n",
       "      <td>51.45</td>\n",
       "      <td>51.54</td>\n",
       "      <td>51.29</td>\n",
       "      <td>51.51</td>\n",
       "      <td>0.0</td>\n",
       "    </tr>\n",
       "    <tr>\n",
       "      <th>4</th>\n",
       "      <td>2004-01-08</td>\n",
       "      <td>51.15</td>\n",
       "      <td>51.33</td>\n",
       "      <td>51.02</td>\n",
       "      <td>51.28</td>\n",
       "      <td>0.0</td>\n",
       "    </tr>\n",
       "    <tr>\n",
       "      <th>...</th>\n",
       "      <td>...</td>\n",
       "      <td>...</td>\n",
       "      <td>...</td>\n",
       "      <td>...</td>\n",
       "      <td>...</td>\n",
       "      <td>...</td>\n",
       "    </tr>\n",
       "    <tr>\n",
       "      <th>3221</th>\n",
       "      <td>2019-12-17</td>\n",
       "      <td>185.52</td>\n",
       "      <td>186.40</td>\n",
       "      <td>184.62</td>\n",
       "      <td>184.68</td>\n",
       "      <td>NaN</td>\n",
       "    </tr>\n",
       "    <tr>\n",
       "      <th>3222</th>\n",
       "      <td>2019-12-18</td>\n",
       "      <td>183.86</td>\n",
       "      <td>184.01</td>\n",
       "      <td>182.38</td>\n",
       "      <td>183.10</td>\n",
       "      <td>NaN</td>\n",
       "    </tr>\n",
       "    <tr>\n",
       "      <th>3223</th>\n",
       "      <td>2019-12-19</td>\n",
       "      <td>183.83</td>\n",
       "      <td>185.17</td>\n",
       "      <td>183.66</td>\n",
       "      <td>185.08</td>\n",
       "      <td>NaN</td>\n",
       "    </tr>\n",
       "    <tr>\n",
       "      <th>3224</th>\n",
       "      <td>2019-12-20</td>\n",
       "      <td>186.29</td>\n",
       "      <td>186.64</td>\n",
       "      <td>184.81</td>\n",
       "      <td>185.19</td>\n",
       "      <td>NaN</td>\n",
       "    </tr>\n",
       "    <tr>\n",
       "      <th>3225</th>\n",
       "      <td>2019-12-23</td>\n",
       "      <td>184.38</td>\n",
       "      <td>184.38</td>\n",
       "      <td>183.20</td>\n",
       "      <td>183.34</td>\n",
       "      <td>NaN</td>\n",
       "    </tr>\n",
       "  </tbody>\n",
       "</table>\n",
       "<p>3226 rows × 6 columns</p>\n",
       "</div>"
      ],
      "text/plain": [
       "            Date    Open    High     Low   Close   Up\n",
       "0     2004-01-02   50.85   50.91   50.62   50.72  1.0\n",
       "1     2004-01-05   50.75   50.84   50.61   50.79  1.0\n",
       "2     2004-01-06   50.87   51.26   50.86   51.15  1.0\n",
       "3     2004-01-07   51.45   51.54   51.29   51.51  0.0\n",
       "4     2004-01-08   51.15   51.33   51.02   51.28  0.0\n",
       "...          ...     ...     ...     ...     ...  ...\n",
       "3221  2019-12-17  185.52  186.40  184.62  184.68  NaN\n",
       "3222  2019-12-18  183.86  184.01  182.38  183.10  NaN\n",
       "3223  2019-12-19  183.83  185.17  183.66  185.08  NaN\n",
       "3224  2019-12-20  186.29  186.64  184.81  185.19  NaN\n",
       "3225  2019-12-23  184.38  184.38  183.20  183.34  NaN\n",
       "\n",
       "[3226 rows x 6 columns]"
      ]
     },
     "execution_count": 17,
     "metadata": {},
     "output_type": "execute_result"
    }
   ],
   "source": [
    "df = pd.concat([train_df, test_df], ignore_index=True)\n",
    "df"
   ]
  },
  {
   "cell_type": "markdown",
   "metadata": {},
   "source": [
    "train_df、test_df、dfそれぞれの行数を確認する。"
   ]
  },
  {
   "cell_type": "code",
   "execution_count": 18,
   "metadata": {},
   "outputs": [
    {
     "name": "stdout",
     "output_type": "stream",
     "text": [
      "(2026, 6)\n",
      "(1200, 5)\n",
      "(3226, 6)\n"
     ]
    }
   ],
   "source": [
    "print(train_df.shape)\n",
    "print(test_df.shape)\n",
    "print(df.shape)"
   ]
  },
  {
   "cell_type": "markdown",
   "metadata": {},
   "source": [
    "(train_dfの行数) + (test_dfの行数) = (dfの行数)<br>\n",
    "となり、結合できました。"
   ]
  },
  {
   "cell_type": "markdown",
   "metadata": {},
   "source": [
    "<a id=\"stat\"></a>\n",
    "### 6. 基本統計量の確認\n",
    "ここからはデータフレームdfをもとに基本統計量の確認を行います。<br>\n",
    "基本統計量とは「平均値」「中央値」「標準偏差」など代表値のことを指し、<br>\n",
    "データの散らばり具合や外れ値の確認等、データの特徴を確認するのに使えます。<br>\n",
    "\n",
    "データの基本統計量を確認するには `.describe()` メソッドを使用します。"
   ]
  },
  {
   "cell_type": "code",
   "execution_count": 19,
   "metadata": {},
   "outputs": [
    {
     "data": {
      "text/html": [
       "<div>\n",
       "<style scoped>\n",
       "    .dataframe tbody tr th:only-of-type {\n",
       "        vertical-align: middle;\n",
       "    }\n",
       "\n",
       "    .dataframe tbody tr th {\n",
       "        vertical-align: top;\n",
       "    }\n",
       "\n",
       "    .dataframe thead th {\n",
       "        text-align: right;\n",
       "    }\n",
       "</style>\n",
       "<table border=\"1\" class=\"dataframe\">\n",
       "  <thead>\n",
       "    <tr style=\"text-align: right;\">\n",
       "      <th></th>\n",
       "      <th>Open</th>\n",
       "      <th>High</th>\n",
       "      <th>Low</th>\n",
       "      <th>Close</th>\n",
       "      <th>Up</th>\n",
       "    </tr>\n",
       "  </thead>\n",
       "  <tbody>\n",
       "    <tr>\n",
       "      <th>count</th>\n",
       "      <td>3226.000000</td>\n",
       "      <td>3226.000000</td>\n",
       "      <td>3226.000000</td>\n",
       "      <td>3226.000000</td>\n",
       "      <td>2026.000000</td>\n",
       "    </tr>\n",
       "    <tr>\n",
       "      <th>mean</th>\n",
       "      <td>94.103639</td>\n",
       "      <td>94.569789</td>\n",
       "      <td>93.646894</td>\n",
       "      <td>94.113252</td>\n",
       "      <td>0.515795</td>\n",
       "    </tr>\n",
       "    <tr>\n",
       "      <th>std</th>\n",
       "      <td>35.552287</td>\n",
       "      <td>35.730437</td>\n",
       "      <td>35.346905</td>\n",
       "      <td>35.530568</td>\n",
       "      <td>0.499874</td>\n",
       "    </tr>\n",
       "    <tr>\n",
       "      <th>min</th>\n",
       "      <td>50.430000</td>\n",
       "      <td>50.650000</td>\n",
       "      <td>50.400000</td>\n",
       "      <td>50.610000</td>\n",
       "      <td>0.000000</td>\n",
       "    </tr>\n",
       "    <tr>\n",
       "      <th>25%</th>\n",
       "      <td>66.490000</td>\n",
       "      <td>66.712500</td>\n",
       "      <td>66.277500</td>\n",
       "      <td>66.520000</td>\n",
       "      <td>0.000000</td>\n",
       "    </tr>\n",
       "    <tr>\n",
       "      <th>50%</th>\n",
       "      <td>85.285000</td>\n",
       "      <td>85.820000</td>\n",
       "      <td>84.955000</td>\n",
       "      <td>85.495000</td>\n",
       "      <td>1.000000</td>\n",
       "    </tr>\n",
       "    <tr>\n",
       "      <th>75%</th>\n",
       "      <td>108.005000</td>\n",
       "      <td>108.507500</td>\n",
       "      <td>107.637500</td>\n",
       "      <td>108.062500</td>\n",
       "      <td>1.000000</td>\n",
       "    </tr>\n",
       "    <tr>\n",
       "      <th>max</th>\n",
       "      <td>205.550000</td>\n",
       "      <td>205.710000</td>\n",
       "      <td>202.530000</td>\n",
       "      <td>203.900000</td>\n",
       "      <td>1.000000</td>\n",
       "    </tr>\n",
       "  </tbody>\n",
       "</table>\n",
       "</div>"
      ],
      "text/plain": [
       "              Open         High          Low        Close           Up\n",
       "count  3226.000000  3226.000000  3226.000000  3226.000000  2026.000000\n",
       "mean     94.103639    94.569789    93.646894    94.113252     0.515795\n",
       "std      35.552287    35.730437    35.346905    35.530568     0.499874\n",
       "min      50.430000    50.650000    50.400000    50.610000     0.000000\n",
       "25%      66.490000    66.712500    66.277500    66.520000     0.000000\n",
       "50%      85.285000    85.820000    84.955000    85.495000     1.000000\n",
       "75%     108.005000   108.507500   107.637500   108.062500     1.000000\n",
       "max     205.550000   205.710000   202.530000   203.900000     1.000000"
      ]
     },
     "execution_count": 19,
     "metadata": {},
     "output_type": "execute_result"
    }
   ],
   "source": [
    "df.describe()"
   ]
  },
  {
   "cell_type": "markdown",
   "metadata": {},
   "source": [
    "各行は以下の値を表しています。\n",
    "count|Nullを除いたデータの個数\n",
    "-|-\n",
    "mean|平均値\n",
    "std|標準偏差\n",
    "min|最小値\n",
    "25%|第一四分位数\n",
    "50%|第二四分位数（中央値）\n",
    "75%|第三四分位数\n",
    "max|最大値\n",
    "\n",
    "※第○四分位数：データを小さい順に並べた時、初めから数えて全体の25%、50%、75%にくる値をそれぞれ第一四分位数、第二四分位数、第三四分位数といいます。<br>\n",
    "特に第二四分位数は中央値と呼ばれます。"
   ]
  },
  {
   "cell_type": "markdown",
   "metadata": {},
   "source": [
    "<a id=\"columns\"></a>\n",
    "### 7. 列の抽出\n",
    "データ加工を行う上で、特定の列のみを抽出するシーンがあります。ここでは列の抽出を行います。<br>\n",
    "列の抽出はデータフレームの列名を指定します。\n"
   ]
  },
  {
   "cell_type": "code",
   "execution_count": 20,
   "metadata": {},
   "outputs": [
    {
     "data": {
      "text/plain": [
       "0    50.72\n",
       "1    50.79\n",
       "2    51.15\n",
       "3    51.51\n",
       "4    51.28\n",
       "Name: Close, dtype: float64"
      ]
     },
     "execution_count": 20,
     "metadata": {},
     "output_type": "execute_result"
    }
   ],
   "source": [
    "# dfの'Close'列をclose_valueに代入\n",
    "close_value = df['Close']\n",
    "\n",
    "# close_valueの中身を確認\n",
    "close_value.head()"
   ]
  },
  {
   "cell_type": "markdown",
   "metadata": {},
   "source": [
    "複数列を抽出するときは、列の指定に列名を格納したリストを入れてあげます。"
   ]
  },
  {
   "cell_type": "code",
   "execution_count": 21,
   "metadata": {},
   "outputs": [
    {
     "data": {
      "text/html": [
       "<div>\n",
       "<style scoped>\n",
       "    .dataframe tbody tr th:only-of-type {\n",
       "        vertical-align: middle;\n",
       "    }\n",
       "\n",
       "    .dataframe tbody tr th {\n",
       "        vertical-align: top;\n",
       "    }\n",
       "\n",
       "    .dataframe thead th {\n",
       "        text-align: right;\n",
       "    }\n",
       "</style>\n",
       "<table border=\"1\" class=\"dataframe\">\n",
       "  <thead>\n",
       "    <tr style=\"text-align: right;\">\n",
       "      <th></th>\n",
       "      <th>Date</th>\n",
       "      <th>Open</th>\n",
       "      <th>High</th>\n",
       "      <th>Low</th>\n",
       "      <th>Close</th>\n",
       "    </tr>\n",
       "  </thead>\n",
       "  <tbody>\n",
       "    <tr>\n",
       "      <th>0</th>\n",
       "      <td>2004-01-02</td>\n",
       "      <td>50.85</td>\n",
       "      <td>50.91</td>\n",
       "      <td>50.62</td>\n",
       "      <td>50.72</td>\n",
       "    </tr>\n",
       "    <tr>\n",
       "      <th>1</th>\n",
       "      <td>2004-01-05</td>\n",
       "      <td>50.75</td>\n",
       "      <td>50.84</td>\n",
       "      <td>50.61</td>\n",
       "      <td>50.79</td>\n",
       "    </tr>\n",
       "    <tr>\n",
       "      <th>2</th>\n",
       "      <td>2004-01-06</td>\n",
       "      <td>50.87</td>\n",
       "      <td>51.26</td>\n",
       "      <td>50.86</td>\n",
       "      <td>51.15</td>\n",
       "    </tr>\n",
       "    <tr>\n",
       "      <th>3</th>\n",
       "      <td>2004-01-07</td>\n",
       "      <td>51.45</td>\n",
       "      <td>51.54</td>\n",
       "      <td>51.29</td>\n",
       "      <td>51.51</td>\n",
       "    </tr>\n",
       "    <tr>\n",
       "      <th>4</th>\n",
       "      <td>2004-01-08</td>\n",
       "      <td>51.15</td>\n",
       "      <td>51.33</td>\n",
       "      <td>51.02</td>\n",
       "      <td>51.28</td>\n",
       "    </tr>\n",
       "  </tbody>\n",
       "</table>\n",
       "</div>"
      ],
      "text/plain": [
       "         Date   Open   High    Low  Close\n",
       "0  2004-01-02  50.85  50.91  50.62  50.72\n",
       "1  2004-01-05  50.75  50.84  50.61  50.79\n",
       "2  2004-01-06  50.87  51.26  50.86  51.15\n",
       "3  2004-01-07  51.45  51.54  51.29  51.51\n",
       "4  2004-01-08  51.15  51.33  51.02  51.28"
      ]
     },
     "execution_count": 21,
     "metadata": {},
     "output_type": "execute_result"
    }
   ],
   "source": [
    "# dfの'Up'列以外をstock_valueに代入\n",
    "columns_list = ['Date', 'Open', 'High', 'Low', 'Close']\n",
    "stock_value = df[columns_list]\n",
    "\n",
    "# stock_valueの中身を確認\n",
    "stock_value.head()"
   ]
  },
  {
   "cell_type": "markdown",
   "metadata": {},
   "source": [
    "ちなみに"
   ]
  },
  {
   "cell_type": "code",
   "execution_count": 22,
   "metadata": {},
   "outputs": [
    {
     "name": "stdout",
     "output_type": "stream",
     "text": [
      "<class 'pandas.core.series.Series'>\n",
      "RangeIndex: 3226 entries, 0 to 3225\n",
      "Series name: Close\n",
      "Non-Null Count  Dtype  \n",
      "--------------  -----  \n",
      "3226 non-null   float64\n",
      "dtypes: float64(1)\n",
      "memory usage: 25.3 KB\n"
     ]
    }
   ],
   "source": [
    "close_value.info()"
   ]
  },
  {
   "cell_type": "code",
   "execution_count": 23,
   "metadata": {},
   "outputs": [
    {
     "name": "stdout",
     "output_type": "stream",
     "text": [
      "<class 'pandas.core.frame.DataFrame'>\n",
      "RangeIndex: 3226 entries, 0 to 3225\n",
      "Data columns (total 5 columns):\n",
      " #   Column  Non-Null Count  Dtype  \n",
      "---  ------  --------------  -----  \n",
      " 0   Date    3226 non-null   object \n",
      " 1   Open    3226 non-null   float64\n",
      " 2   High    3226 non-null   float64\n",
      " 3   Low     3226 non-null   float64\n",
      " 4   Close   3226 non-null   float64\n",
      "dtypes: float64(4), object(1)\n",
      "memory usage: 126.1+ KB\n"
     ]
    }
   ],
   "source": [
    "stock_value.info()"
   ]
  },
  {
   "cell_type": "markdown",
   "metadata": {},
   "source": [
    "`stock_value`はDataFrame型だが、<br>\n",
    "`close_value`は一列のデータなので**Sreies型**という別の型になっています。<br>\n",
    "使えるメソッドが若干違ってくるので注意が必要です。"
   ]
  },
  {
   "cell_type": "markdown",
   "metadata": {},
   "source": [
    "<a id=\"row\"></a>\n",
    "### 8. 行の選択\n",
    "特定の行を選択するには、`.loc[]` （ラベルベース）や `.iloc[]` （整数位置ベース）を使用します。\n"
   ]
  },
  {
   "cell_type": "code",
   "execution_count": 24,
   "metadata": {},
   "outputs": [
    {
     "data": {
      "text/plain": [
       "Date     2004-01-02\n",
       "Open          50.85\n",
       "High          50.91\n",
       "Low           50.62\n",
       "Close         50.72\n",
       "Up              1.0\n",
       "Name: 0, dtype: object"
      ]
     },
     "execution_count": 24,
     "metadata": {},
     "output_type": "execute_result"
    }
   ],
   "source": [
    "# ラベルベースの選択\n",
    "df.loc[0]"
   ]
  },
  {
   "cell_type": "code",
   "execution_count": 25,
   "metadata": {},
   "outputs": [
    {
     "data": {
      "text/plain": [
       "Date     2004-01-02\n",
       "Open          50.85\n",
       "High          50.91\n",
       "Low           50.62\n",
       "Close         50.72\n",
       "Up              1.0\n",
       "Name: 0, dtype: object"
      ]
     },
     "execution_count": 25,
     "metadata": {},
     "output_type": "execute_result"
    }
   ],
   "source": [
    "# 位置ベースの選択\n",
    "df.iloc[0]"
   ]
  },
  {
   "cell_type": "markdown",
   "metadata": {},
   "source": [
    "<a id=\"conditions\"></a>\n",
    "### 9. 条件に基づく選択\n",
    "条件を満たすデータのみを選択するには、条件式を使います。"
   ]
  },
  {
   "cell_type": "code",
   "execution_count": 26,
   "metadata": {},
   "outputs": [
    {
     "data": {
      "text/html": [
       "<div>\n",
       "<style scoped>\n",
       "    .dataframe tbody tr th:only-of-type {\n",
       "        vertical-align: middle;\n",
       "    }\n",
       "\n",
       "    .dataframe tbody tr th {\n",
       "        vertical-align: top;\n",
       "    }\n",
       "\n",
       "    .dataframe thead th {\n",
       "        text-align: right;\n",
       "    }\n",
       "</style>\n",
       "<table border=\"1\" class=\"dataframe\">\n",
       "  <thead>\n",
       "    <tr style=\"text-align: right;\">\n",
       "      <th></th>\n",
       "      <th>Date</th>\n",
       "      <th>Open</th>\n",
       "      <th>High</th>\n",
       "      <th>Low</th>\n",
       "      <th>Close</th>\n",
       "      <th>Up</th>\n",
       "    </tr>\n",
       "  </thead>\n",
       "  <tbody>\n",
       "    <tr>\n",
       "      <th>0</th>\n",
       "      <td>2004-01-02</td>\n",
       "      <td>50.85</td>\n",
       "      <td>50.91</td>\n",
       "      <td>50.62</td>\n",
       "      <td>50.72</td>\n",
       "      <td>1.0</td>\n",
       "    </tr>\n",
       "    <tr>\n",
       "      <th>1</th>\n",
       "      <td>2004-01-05</td>\n",
       "      <td>50.75</td>\n",
       "      <td>50.84</td>\n",
       "      <td>50.61</td>\n",
       "      <td>50.79</td>\n",
       "      <td>1.0</td>\n",
       "    </tr>\n",
       "    <tr>\n",
       "      <th>2</th>\n",
       "      <td>2004-01-06</td>\n",
       "      <td>50.87</td>\n",
       "      <td>51.26</td>\n",
       "      <td>50.86</td>\n",
       "      <td>51.15</td>\n",
       "      <td>1.0</td>\n",
       "    </tr>\n",
       "    <tr>\n",
       "      <th>7</th>\n",
       "      <td>2004-01-13</td>\n",
       "      <td>50.90</td>\n",
       "      <td>50.98</td>\n",
       "      <td>50.53</td>\n",
       "      <td>50.61</td>\n",
       "      <td>1.0</td>\n",
       "    </tr>\n",
       "    <tr>\n",
       "      <th>8</th>\n",
       "      <td>2004-01-14</td>\n",
       "      <td>50.43</td>\n",
       "      <td>50.65</td>\n",
       "      <td>50.40</td>\n",
       "      <td>50.64</td>\n",
       "      <td>1.0</td>\n",
       "    </tr>\n",
       "  </tbody>\n",
       "</table>\n",
       "</div>"
      ],
      "text/plain": [
       "         Date   Open   High    Low  Close   Up\n",
       "0  2004-01-02  50.85  50.91  50.62  50.72  1.0\n",
       "1  2004-01-05  50.75  50.84  50.61  50.79  1.0\n",
       "2  2004-01-06  50.87  51.26  50.86  51.15  1.0\n",
       "7  2004-01-13  50.90  50.98  50.53  50.61  1.0\n",
       "8  2004-01-14  50.43  50.65  50.40  50.64  1.0"
      ]
     },
     "execution_count": 26,
     "metadata": {},
     "output_type": "execute_result"
    }
   ],
   "source": [
    "# 'Up'が1の行のみを選択\n",
    "up_is_1 = df[(df['Up'] == 1)]\n",
    "up_is_1.head()"
   ]
  },
  {
   "cell_type": "markdown",
   "metadata": {},
   "source": [
    "条件式には比較演算子('>','<'など)や論理演算子('&','|'など)が使えます。"
   ]
  },
  {
   "cell_type": "code",
   "execution_count": 27,
   "metadata": {},
   "outputs": [
    {
     "data": {
      "text/html": [
       "<div>\n",
       "<style scoped>\n",
       "    .dataframe tbody tr th:only-of-type {\n",
       "        vertical-align: middle;\n",
       "    }\n",
       "\n",
       "    .dataframe tbody tr th {\n",
       "        vertical-align: top;\n",
       "    }\n",
       "\n",
       "    .dataframe thead th {\n",
       "        text-align: right;\n",
       "    }\n",
       "</style>\n",
       "<table border=\"1\" class=\"dataframe\">\n",
       "  <thead>\n",
       "    <tr style=\"text-align: right;\">\n",
       "      <th></th>\n",
       "      <th>Date</th>\n",
       "      <th>Open</th>\n",
       "      <th>High</th>\n",
       "      <th>Low</th>\n",
       "      <th>Close</th>\n",
       "      <th>Up</th>\n",
       "    </tr>\n",
       "  </thead>\n",
       "  <tbody>\n",
       "    <tr>\n",
       "      <th>0</th>\n",
       "      <td>2004-01-02</td>\n",
       "      <td>50.85</td>\n",
       "      <td>50.91</td>\n",
       "      <td>50.62</td>\n",
       "      <td>50.72</td>\n",
       "      <td>1.0</td>\n",
       "    </tr>\n",
       "    <tr>\n",
       "      <th>1</th>\n",
       "      <td>2004-01-05</td>\n",
       "      <td>50.75</td>\n",
       "      <td>50.84</td>\n",
       "      <td>50.61</td>\n",
       "      <td>50.79</td>\n",
       "      <td>1.0</td>\n",
       "    </tr>\n",
       "    <tr>\n",
       "      <th>2</th>\n",
       "      <td>2004-01-06</td>\n",
       "      <td>50.87</td>\n",
       "      <td>51.26</td>\n",
       "      <td>50.86</td>\n",
       "      <td>51.15</td>\n",
       "      <td>1.0</td>\n",
       "    </tr>\n",
       "    <tr>\n",
       "      <th>3</th>\n",
       "      <td>2004-01-07</td>\n",
       "      <td>51.45</td>\n",
       "      <td>51.54</td>\n",
       "      <td>51.29</td>\n",
       "      <td>51.51</td>\n",
       "      <td>0.0</td>\n",
       "    </tr>\n",
       "    <tr>\n",
       "      <th>4</th>\n",
       "      <td>2004-01-08</td>\n",
       "      <td>51.15</td>\n",
       "      <td>51.33</td>\n",
       "      <td>51.02</td>\n",
       "      <td>51.28</td>\n",
       "      <td>0.0</td>\n",
       "    </tr>\n",
       "  </tbody>\n",
       "</table>\n",
       "</div>"
      ],
      "text/plain": [
       "         Date   Open   High    Low  Close   Up\n",
       "0  2004-01-02  50.85  50.91  50.62  50.72  1.0\n",
       "1  2004-01-05  50.75  50.84  50.61  50.79  1.0\n",
       "2  2004-01-06  50.87  51.26  50.86  51.15  1.0\n",
       "3  2004-01-07  51.45  51.54  51.29  51.51  0.0\n",
       "4  2004-01-08  51.15  51.33  51.02  51.28  0.0"
      ]
     },
     "execution_count": 27,
     "metadata": {},
     "output_type": "execute_result"
    }
   ],
   "source": [
    "up_is_1_or_0 = df[(df['Up'] == 1) | (df['Up'] == 0)]\n",
    "up_is_1_or_0.head()\n"
   ]
  },
  {
   "cell_type": "markdown",
   "metadata": {},
   "source": [
    "（'Up'自体が0,1のみなので無意味な条件ですが・・・）"
   ]
  },
  {
   "cell_type": "markdown",
   "metadata": {},
   "source": [
    "<a id=\"addrow\"></a>\n",
    "### 10. 新しい列の追加\n",
    "データフレームに新しい列を追加するには、次のようにします。<br>\n",
    "\n",
    "```Python\n",
    "df['新しい列名'] = <追加したい値>\n",
    "```\n",
    "追加したい値は数値でも文字列でOKです。\n",
    "\n",
    "ここでは例として1日の値幅（'prange'）を追加します。<br>\n",
    "まず、データフレームをコピーします。<br>\n",
    "データフレームの構造やデータそのものに手を加える場合、データフレームをコピーして<br>\n",
    "元のデータフレームを残しておくとエラーが出た時など後々便利です。"
   ]
  },
  {
   "cell_type": "code",
   "execution_count": 28,
   "metadata": {},
   "outputs": [],
   "source": [
    "# データフレームをコピー\n",
    "df1 = df.copy()"
   ]
  },
  {
   "cell_type": "code",
   "execution_count": 29,
   "metadata": {},
   "outputs": [],
   "source": [
    "# 高値をhigh_value、安値をlow_valueに格納\n",
    "high_value = df1['High']\n",
    "low_value = df1['Low']"
   ]
  },
  {
   "cell_type": "code",
   "execution_count": 30,
   "metadata": {},
   "outputs": [],
   "source": [
    "# 値幅を計算\n",
    "prange = high_value - low_value"
   ]
  },
  {
   "cell_type": "code",
   "execution_count": 31,
   "metadata": {},
   "outputs": [
    {
     "data": {
      "text/html": [
       "<div>\n",
       "<style scoped>\n",
       "    .dataframe tbody tr th:only-of-type {\n",
       "        vertical-align: middle;\n",
       "    }\n",
       "\n",
       "    .dataframe tbody tr th {\n",
       "        vertical-align: top;\n",
       "    }\n",
       "\n",
       "    .dataframe thead th {\n",
       "        text-align: right;\n",
       "    }\n",
       "</style>\n",
       "<table border=\"1\" class=\"dataframe\">\n",
       "  <thead>\n",
       "    <tr style=\"text-align: right;\">\n",
       "      <th></th>\n",
       "      <th>Date</th>\n",
       "      <th>Open</th>\n",
       "      <th>High</th>\n",
       "      <th>Low</th>\n",
       "      <th>Close</th>\n",
       "      <th>Up</th>\n",
       "      <th>Prange</th>\n",
       "    </tr>\n",
       "  </thead>\n",
       "  <tbody>\n",
       "    <tr>\n",
       "      <th>0</th>\n",
       "      <td>2004-01-02</td>\n",
       "      <td>50.85</td>\n",
       "      <td>50.91</td>\n",
       "      <td>50.62</td>\n",
       "      <td>50.72</td>\n",
       "      <td>1.0</td>\n",
       "      <td>0.29</td>\n",
       "    </tr>\n",
       "    <tr>\n",
       "      <th>1</th>\n",
       "      <td>2004-01-05</td>\n",
       "      <td>50.75</td>\n",
       "      <td>50.84</td>\n",
       "      <td>50.61</td>\n",
       "      <td>50.79</td>\n",
       "      <td>1.0</td>\n",
       "      <td>0.23</td>\n",
       "    </tr>\n",
       "    <tr>\n",
       "      <th>2</th>\n",
       "      <td>2004-01-06</td>\n",
       "      <td>50.87</td>\n",
       "      <td>51.26</td>\n",
       "      <td>50.86</td>\n",
       "      <td>51.15</td>\n",
       "      <td>1.0</td>\n",
       "      <td>0.40</td>\n",
       "    </tr>\n",
       "    <tr>\n",
       "      <th>3</th>\n",
       "      <td>2004-01-07</td>\n",
       "      <td>51.45</td>\n",
       "      <td>51.54</td>\n",
       "      <td>51.29</td>\n",
       "      <td>51.51</td>\n",
       "      <td>0.0</td>\n",
       "      <td>0.25</td>\n",
       "    </tr>\n",
       "    <tr>\n",
       "      <th>4</th>\n",
       "      <td>2004-01-08</td>\n",
       "      <td>51.15</td>\n",
       "      <td>51.33</td>\n",
       "      <td>51.02</td>\n",
       "      <td>51.28</td>\n",
       "      <td>0.0</td>\n",
       "      <td>0.31</td>\n",
       "    </tr>\n",
       "  </tbody>\n",
       "</table>\n",
       "</div>"
      ],
      "text/plain": [
       "         Date   Open   High    Low  Close   Up  Prange\n",
       "0  2004-01-02  50.85  50.91  50.62  50.72  1.0    0.29\n",
       "1  2004-01-05  50.75  50.84  50.61  50.79  1.0    0.23\n",
       "2  2004-01-06  50.87  51.26  50.86  51.15  1.0    0.40\n",
       "3  2004-01-07  51.45  51.54  51.29  51.51  0.0    0.25\n",
       "4  2004-01-08  51.15  51.33  51.02  51.28  0.0    0.31"
      ]
     },
     "execution_count": 31,
     "metadata": {},
     "output_type": "execute_result"
    }
   ],
   "source": [
    "# 新しく列を追加\n",
    "df1['Prange'] = prange\n",
    "\n",
    "df1.head()"
   ]
  },
  {
   "cell_type": "markdown",
   "metadata": {},
   "source": [
    "データフレームに'Prange'列が追加されました。<br>"
   ]
  },
  {
   "cell_type": "markdown",
   "metadata": {},
   "source": [
    "これらの基本操作をマスターすることで、Pandasを用いたさまざまなデータ分析の基礎が身につきます。"
   ]
  },
  {
   "cell_type": "markdown",
   "metadata": {},
   "source": [
    "[Topに戻る](#top)"
   ]
  }
 ],
 "metadata": {
  "kernelspec": {
   "display_name": "base",
   "language": "python",
   "name": "python3"
  },
  "language_info": {
   "codemirror_mode": {
    "name": "ipython",
    "version": 3
   },
   "file_extension": ".py",
   "mimetype": "text/x-python",
   "name": "python",
   "nbconvert_exporter": "python",
   "pygments_lexer": "ipython3",
   "version": "3.11.7"
  }
 },
 "nbformat": 4,
 "nbformat_minor": 2
}
